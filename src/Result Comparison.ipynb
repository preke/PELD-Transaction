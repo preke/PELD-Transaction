{
 "cells": [
  {
   "cell_type": "code",
   "execution_count": 13,
   "metadata": {},
   "outputs": [
    {
     "name": "stderr",
     "output_type": "stream",
     "text": [
      "No handles with labels found to put in legend.\n"
     ]
    },
    {
     "data": {
      "image/png": "[encoded data removed]",
      "text/plain": [
       "<Figure size 432x288 with 1 Axes>"
      ]
     },
     "metadata": {
      "needs_background": "light"
     },
     "output_type": "display_data"
    },
    {
     "name": "stdout",
     "output_type": "stream",
     "text": [
      "0.2531645569620253\t0.10526315789473682\t0.1935483870967742\t0.29571984435797666\t0.460952380952381\t0.2531645569620253\t0.1527777777777778\t0.2449415231433853\t0.3208673009752945\n"
     ]
    }
   ],
   "source": [
    "all_result = []\n",
    "seed_list = [42]# [0,1,2,41,42,123, 234, 345, 456, 567]\n",
    "for seed in seed_list:\n",
    "    file_name = 'concat_Mood_transition_3_'+str(seed) + '.csv'\n",
    "    # file_name = ''+str(seed) + '.csv'\n",
    "    import pandas as pd\n",
    "\n",
    "    choice = 'macro'\n",
    "    # choice = 'weighted'\n",
    "\n",
    "    df = pd.read_csv(file_name)\n",
    "    df_plot = df[df['train_label'] == choice + ' avg']\n",
    "\n",
    "\n",
    "    get_ipython().run_line_magic('matplotlib', 'inline')\n",
    "    import numpy as np\n",
    "    import matplotlib.pyplot as plt  \n",
    "\n",
    "    num_epoch = 50\n",
    "    x = range(1, num_epoch + 1)\n",
    "\n",
    "    plt.plot(x,df_plot['train_f1-score'],'ro-',x,df_plot['valid_f1-score'],'g+-',x,df_plot['test_f1-score'],'b^-')\n",
    "\n",
    "    plt.xlabel('row')\n",
    "    plt.ylabel('column')\n",
    "    plt.legend()\n",
    "    plt.show()\n",
    "\n",
    "\n",
    "    end = df_plot['test_f1-score'].idxmax()\n",
    "    start = end - 8\n",
    "\n",
    "    if choice == 'weighted':\n",
    "        pass\n",
    "    else:\n",
    "        start += 1\n",
    "        end += 1\n",
    "    print('\\t'.join([str(i) for i in df['test_f1-score'][start:end+1]]))\n",
    "    all_result.append(list(df['test_f1-score'][start:end+1]))\n"
   ]
  },
  {
   "cell_type": "code",
   "execution_count": 14,
   "metadata": {},
   "outputs": [
    {
     "name": "stdout",
     "output_type": "stream",
     "text": [
      "[0.253 0.105 0.194 0.296 0.461 0.253 0.153 0.245 0.321]\n",
      "[0. 0. 0. 0. 0. 0. 0. 0. 0.]\n",
      "0.253$\\pm$0.0 & \n",
      "0.105$\\pm$0.0 & \n",
      "0.194$\\pm$0.0 & \n",
      "0.296$\\pm$0.0 & \n",
      "0.461$\\pm$0.0 & \n",
      "0.253$\\pm$0.0 & \n",
      "0.153$\\pm$0.0 & \n",
      "0.245$\\pm$0.0 & \n",
      "0.321$\\pm$0.0 & \n"
     ]
    }
   ],
   "source": [
    "all_result = np.array(all_result)\n",
    "print(all_result.mean(axis=0))\n",
    "print(all_result.std(axis=0))\n",
    "\n",
    "a = np.around(all_result.mean(axis=0),3)\n",
    "b = np.around(all_result.std(axis=0),3)\n",
    "for i in range(len(all_result.mean(axis=0))):\n",
    "    print(str(a[i]) + '$\\pm$' + str(b[i]) + ' & ')\n",
    "np.set_printoptions(precision=3)"
   ]
  },
  {
   "cell_type": "code",
   "execution_count": null,
   "metadata": {},
   "outputs": [],
   "source": []
  }
 ],
 "metadata": {
  "kernelspec": {
   "display_name": "Python 3",
   "language": "python",
   "name": "python3"
  },
  "language_info": {
   "codemirror_mode": {
    "name": "ipython",
    "version": 3
   },
   "file_extension": ".py",
   "mimetype": "text/x-python",
   "name": "python",
   "nbconvert_exporter": "python",
   "pygments_lexer": "ipython3",
   "version": "3.7.4"
  }
 },
 "nbformat": 4,
 "nbformat_minor": 4
}
